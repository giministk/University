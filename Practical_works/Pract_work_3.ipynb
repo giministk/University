{
  "nbformat": 4,
  "nbformat_minor": 0,
  "metadata": {
    "colab": {
      "provenance": [],
      "include_colab_link": true
    },
    "kernelspec": {
      "name": "python3",
      "display_name": "Python 3"
    },
    "language_info": {
      "name": "python"
    }
  },
  "cells": [
    {
      "cell_type": "markdown",
      "metadata": {
        "id": "view-in-github",
        "colab_type": "text"
      },
      "source": [
        "<a href=\"https://colab.research.google.com/github/giministk/University/blob/main/Practical_works/Pract_work_3.ipynb\" target=\"_parent\"><img src=\"https://colab.research.google.com/assets/colab-badge.svg\" alt=\"Open In Colab\"/></a>"
      ]
    },
    {
      "cell_type": "markdown",
      "source": [
        "# **Практическая работа №3. Введение в ООП**\n",
        "\n",
        "\n"
      ],
      "metadata": {
        "id": "s-EuQCpnWXCn"
      }
    },
    {
      "cell_type": "markdown",
      "source": [
        "## **Задание №1. Создайте класс Sphere для представления сферы в трехмерном пространстве**\n"
      ],
      "metadata": {
        "id": "TQ5SpdjdbD4D"
      }
    },
    {
      "cell_type": "markdown",
      "source": [
        "Обеспечьте следующие методы класса:\n",
        "\n",
        "1. Конструктор, принимающий 4 действительных числа: радиус, и 3 координаты центра шара. Если конструктор вызывается без аргументов, создать объект сферы с единичным радиусом и центром в начале координат. Если конструктор вызывается с аргументом, создать объект сферы с соответствующим радиусом и центром в начале координат.\n",
        "\n",
        "2. Метод get_volume (), который возвращает действительное число — объем шара, ограниченной текущей сферой.\n",
        "\n",
        "3. Метод get_square (), который возвращает действительное число — площадь внешней поверхности сферы.\n",
        "\n",
        "4. Метод get_radius (), который возвращает действительное число — радиус сферы.\n",
        "\n",
        "5. Метод get_center (), который возвращает тьюпл с 3 действительными числами — координатами центра сферы в том же порядке, в каком они задаются в конструкторе.\n",
        "\n",
        "6. Метод set_radius (r), который принимает 1 аргумент — действительное число, и меняет радиус текущей сферы, ничего не возвращая.\n",
        "\n",
        "7. Метод set_center (x, y, z), который принимает 3 аргумента — действительных числа, и меняет координаты центра сферы, ничего не возвращая. Координаты задаются в том же порядке, что и в конструкторе.\n",
        "\n",
        "8. Метод is_point_inside (x, y, z), который принимает 3 аргумента — действительных числа — координаты некоторой точки в пространстве (в том же порядке, что и в конструкторе), и возвращает логическое значение True или False в зависимости от того, находится эта точка внутри сферы."
      ],
      "metadata": {
        "id": "Q5Ow51wfASZH"
      }
    },
    {
      "cell_type": "code",
      "source": [
        "\n",
        "s0 = Sphere(0.5) # test sphere creation with radius and default center\n",
        "print(s0.get_center()) # (0.0, 0.0, 0.0)\n",
        "print(s0.get_volume()) # 0.523598775598\n",
        "print(s0.is_point_inside(0 , -1.5, 0)) # False\n",
        "s0.set_radius(1.6)\n",
        "print(s0.is_point_inside(0, -1.5, 0)) # True\n",
        "print(s0.get_radius()) # 1.6"
      ],
      "metadata": {
        "id": "xYx3bR2Lbv42",
        "colab": {
          "base_uri": "https://localhost:8080/"
        },
        "outputId": "773436b6-a957-4d0d-c459-5fcbf07b390d"
      },
      "execution_count": 7,
      "outputs": [
        {
          "output_type": "stream",
          "name": "stdout",
          "text": [
            "(0.0, 0.0, 0.0)\n",
            "0.5235987755982988\n",
            "False\n",
            "True\n",
            "1.6\n"
          ]
        }
      ]
    },
    {
      "cell_type": "code",
      "source": [
        "import math\n",
        "\n",
        "class Sphere:\n",
        "  def __init__(self, radius = 1, x_sphere = 0.0, y_sphere = 0.0, z_sphere = 0.0):\n",
        "    self.radius = radius\n",
        "    self.x_sphere = x_sphere\n",
        "    self.y_sphere = y_sphere\n",
        "    self.z_sphere = z_sphere\n",
        "\n",
        "  def get_volume(self):\n",
        "    sphere_volume = (4/3*math.pi*self.radius**3)\n",
        "    return sphere_volume\n",
        "\n",
        "  def get_square(self):\n",
        "    sphere_square = (1/4)*math.pi*(self.radius*2)**2\n",
        "    return sphere_square\n",
        "\n",
        "  def get_radius(self):\n",
        "    sphere_radius = self.radius\n",
        "    return sphere_radius\n",
        "\n",
        "  def get_center(self):\n",
        "    return self.x_sphere, self.y_sphere, self.z_sphere\n",
        "\n",
        "  def set_radius(self, new_radius):\n",
        "    self.radius = new_radius\n",
        "\n",
        "  def set_center(self, x_center, y_center, z_center):\n",
        "    self.x_sphere = x_center\n",
        "    self.y_sphere = y_center\n",
        "    self.z_sphere = z_center\n",
        "\n",
        "  def is_point_inside(self, x_point, y_point, z_point):\n",
        "    check_point = (abs(x_point) <= self.radius) and (abs(y_point) <= self.radius) and (abs(z_point) <= self.radius)\n",
        "    return check_point\n",
        "\n",
        "\n"
      ],
      "metadata": {
        "id": "d-vd-AYRdBId"
      },
      "execution_count": 6,
      "outputs": []
    },
    {
      "cell_type": "markdown",
      "source": [
        "## **Задание №2. Создайте класс SuperStr, который наследует стандартный класс str и содержит 2 новых метода:**"
      ],
      "metadata": {
        "id": "UuJ9K_zAcaY_"
      }
    },
    {
      "cell_type": "markdown",
      "source": [
        "1. Метод is_repeatance (s), который принимает 1 аргумент s и возвращает True или False в зависимости от того, может ли текущая строку быть получена целым количеством повторов строки s. Вернуть False, если s не является строкой. Считать, что пустая строка не содержит повторов.\n",
        "\n",
        "2. Метод is_palindrom (), который возвращает True или False в зависимости от того, является ли строка [палиндромом](https://ru.wikipedia.org/wiki/Палиндром). Регистрами символов пренебрегать. Пустую строку считать палиндромом."
      ],
      "metadata": {
        "id": "GX99X81VchPW"
      }
    },
    {
      "cell_type": "code",
      "source": [
        "class SuperStr(str):\n",
        "\n",
        "  def __init__(self, string):\n",
        "    self.string = string\n",
        "\n",
        "  def is_repeatance(self, s):\n",
        "    if not isinstance(s, str):\n",
        "      return False\n",
        "    if self.string == \"\":\n",
        "      return False\n",
        "    while len(s) <= len(self.string):\n",
        "      if s == self.string:\n",
        "        return True\n",
        "      else: s += s\n",
        "    return False\n",
        "\n",
        "  def is_palindrom(self):\n",
        "    if not isinstance(self, str):\n",
        "      return False\n",
        "    if self.string.lower() == self.string[::-1].lower():\n",
        "      return True\n",
        "    return False"
      ],
      "metadata": {
        "id": "LtIAKDWFdEcr"
      },
      "execution_count": null,
      "outputs": []
    },
    {
      "cell_type": "code",
      "source": [
        "# Тесты\n",
        "\n",
        "s = SuperStr(\"123123123123\")\n",
        "print(s.is_repeatance(\"123\")) # True\n",
        "print(s.is_repeatance(\"123123\")) # True\n",
        "print(s.is_repeatance(\"123123123123\")) # True\n",
        "print(s.is_repeatance(\"12312\")) # False\n",
        "print(s.is_repeatance(123)) # False\n",
        "print(s.is_palindrom()) # False\n",
        "print(s) # 123123123123 (строка)\n",
        "print(int(s)) # 123123123123 (целое число)\n",
        "print(s + \"qwe\") # 123123123123qwe\n",
        "p = SuperStr(\"123_321\")\n",
        "print(p.is_palindrom()) # True"
      ],
      "metadata": {
        "id": "oRO3alwicoNp",
        "colab": {
          "base_uri": "https://localhost:8080/"
        },
        "outputId": "0cc458b1-7f21-44ff-b9ac-a1bbe1955ecb"
      },
      "execution_count": null,
      "outputs": [
        {
          "output_type": "stream",
          "name": "stdout",
          "text": [
            "True\n",
            "True\n",
            "True\n",
            "False\n",
            "False\n",
            "False\n",
            "123123123123\n",
            "123123123123\n",
            "123123123123qwe\n",
            "True\n"
          ]
        }
      ]
    },
    {
      "cell_type": "markdown",
      "source": [
        "## **Задание №3. В коде ниже представлен класс преподавателей и класс студентов (вы можете взять этот код за основу или написать свой).**"
      ],
      "metadata": {
        "id": "m9EGwLY9jZbw"
      }
    },
    {
      "cell_type": "code",
      "source": [
        "from abc import ABC, abstractmethod\n",
        "class Student:\n",
        "    def __init__(self, name, surname, gender):\n",
        "        self.name = name\n",
        "        self.surname = surname\n",
        "        self.gender = gender\n",
        "        self.finished_courses = []\n",
        "        self.courses_in_progress = []\n",
        "        self.grades = {}\n",
        "\n",
        "    def add_courses(self, course_name):\n",
        "        self.finished_courses.append(course_name)\n",
        "\n",
        "\n",
        "class Mentor:\n",
        "    def __init__(self, name, surname):\n",
        "        self.name = name\n",
        "        self.surname = surname\n",
        "        self.courses_attached = []\n",
        "\n",
        "    @abstractmethod\n",
        "    def rate_hw(self, student, course, grade):\n",
        "        student.grades[course] = [grade]"
      ],
      "metadata": {
        "id": "PlqK9m7KrT6e"
      },
      "execution_count": null,
      "outputs": []
    },
    {
      "cell_type": "code",
      "source": [
        "best_student = Student('Ruoy', 'Eman', 'your_gender')\n",
        "cool_mentor = Mentor('Some', 'Buddy')\n",
        "cool_mentor.rate_hw(best_student, 'Python', 10)\n",
        "\n",
        "print(\"Имя студента: \", best_student.name)\n",
        "print(\"Имя преподавателя: \", cool_mentor.name)\n",
        "print(\"Оценки студента по курсам: \", best_student.grades)"
      ],
      "metadata": {
        "colab": {
          "base_uri": "https://localhost:8080/"
        },
        "id": "oNc1-dVaw3ee",
        "outputId": "d69bf0af-08c3-4ac9-c042-a30c8fc4a97d"
      },
      "execution_count": null,
      "outputs": [
        {
          "output_type": "stream",
          "name": "stdout",
          "text": [
            "Имя студента:  Ruoy\n",
            "Имя преподавателя:  Some\n",
            "Оценки студента по курсам:  {'Python': [10]}\n"
          ]
        }
      ]
    },
    {
      "cell_type": "markdown",
      "source": [
        "### **3.1. Наследование**"
      ],
      "metadata": {
        "id": "08FkYxULrxE-"
      }
    },
    {
      "cell_type": "markdown",
      "source": [
        "* Класс Mentor должен стать родительским классом для преподавателей. От него нужно реализовать наследование классов Lecturer (лекторы) и Reviewer (эксперты, проверяющие домашние задания).\n",
        "\n",
        "> Имя, фамилю и список закрепленных курсов логично реализовать на уровне родительского класса."
      ],
      "metadata": {
        "id": "YNjsCv5ItOii"
      }
    },
    {
      "cell_type": "code",
      "source": [
        "class Lecturer(Mentor):\n",
        "  pass\n",
        "\n",
        "\n",
        "class Reviewer(Mentor):\n",
        "  pass"
      ],
      "metadata": {
        "id": "1quZPRZKtIoc"
      },
      "execution_count": null,
      "outputs": []
    },
    {
      "cell_type": "markdown",
      "source": [
        "### **3.2. Атрибуты и взаимодействие классов**"
      ],
      "metadata": {
        "id": "oL8kB-uUtH5K"
      }
    },
    {
      "cell_type": "markdown",
      "source": [
        "* Реализуйте возможность проставления оценок студентам только Reviewer-ам (реализуйте такой метод).\n",
        "\n",
        "* Реализуйте метод выставления оценок лекторам у класса Student (оценки по 10-балльной шкале, хранятся в атрибуте-словаре у Lecturer, в котором ключи – названия курсов, а значения – списки оценок). Лектор при этом должен быть закреплен за тем курсом, на который записан студент (реализовать проверку)."
      ],
      "metadata": {
        "id": "ddcuJFCksWsY"
      }
    },
    {
      "cell_type": "code",
      "source": [
        "class Student:\n",
        "  def rate_lecturer(self, lecturer, course, grade):\n",
        "      if grade >= 1 and grade <= 10 and course in lecturer.courses_attached and (course in self.finished_courses or course in self.courses_in_progress):\n",
        "        if not course in lecturer.courses_rating:\n",
        "          lecturer.courses_rating[course] = []\n",
        "        lecturer.courses_rating[course].append(grade)\n",
        "\n",
        "\n",
        "class Reviewer(Mentor):\n",
        "  def rate_hw(self, student, course, grade):\n",
        "        student.grades[course] = [grade]"
      ],
      "metadata": {
        "id": "U30yyvuirv6H"
      },
      "execution_count": null,
      "outputs": []
    },
    {
      "cell_type": "markdown",
      "source": [
        "### **3.3. Полиморфизм и магические методы**"
      ],
      "metadata": {
        "id": "i6PrwEBSu39u"
      }
    },
    {
      "cell_type": "markdown",
      "source": [
        "Перегрузите магический метод \\_\\_str__ у всех классов.\n",
        "У проверяющих он должен выводить информацию в следующем виде:\n",
        "\n",
        "\n",
        "\n",
        "```\n",
        "print(some_reviewer)\n",
        "Имя: Some\n",
        "Фамилия: Buddy\n",
        "```\n",
        "\n",
        "У лекторов:\n",
        "\n",
        "\n",
        "\n",
        "```\n",
        "print(some_lecturer)\n",
        "Имя: Some\n",
        "Фамилия: Buddy\n",
        "Средняя оценка за лекции: 9.9\n",
        "```\n",
        "\n",
        "А у студентов так:\n",
        "\n",
        "\n",
        "\n",
        "```\n",
        "print(some_student)\n",
        "Имя: Ruoy\n",
        "Фамилия: Eman\n",
        "Средняя оценка за домашние задания: 9.9\n",
        "Курсы в процессе изучения: Python, Git\n",
        "Завершенные курсы: Введение в программирование\n",
        "```\n",
        "\n",
        "\n",
        "\n"
      ],
      "metadata": {
        "id": "GvmtjlnmvF8b"
      }
    },
    {
      "cell_type": "code",
      "source": [
        "class Lecturer(Mentor):\n",
        "    def __init__(self, name, surname):\n",
        "        super().__init__(name, surname)\n",
        "        self.courses_rating = {}\n",
        "\n",
        "    def __str__(self):\n",
        "        string_type = ''\n",
        "        sring_type += f'Имя: {self.name} \\n'\n",
        "        string_type += f'Фамилия: {self.surname} \\n'\n",
        "        string_type += f'Средняя оценка за лекции: {float(self):.1f} \\n'\n",
        "        return string_type\n",
        "\n",
        "class Reviewer(Mentor):\n",
        "    def rate_hw(self, student, course, grade):\n",
        "          student.grades[course] = [grade]\n",
        "\n",
        "    def __str__(self):\n",
        "        string_type = ''\n",
        "        sring_type += f'Имя: {self.name} \\n'\n",
        "        string_type += f'Фамилия: {self.surname} \\n'\n",
        "        return string_type\n",
        "\n",
        "\n",
        "class Student:\n",
        "    def __init__(self, name, surname, gender):\n",
        "        self.name = name\n",
        "        self.surname = surname\n",
        "        self.gender = gender\n",
        "        self.finished_courses = []\n",
        "        self.courses_in_progress = []\n",
        "        self.grades = {}\n",
        "\n",
        "    def add_courses(self, course_name):\n",
        "        self.finished_courses.append(course_name)\n",
        "\n",
        "    def __str__(self):\n",
        "      string_type = ''\n",
        "      sring_type += f'Имя: {self.name} \\n'\n",
        "      string_type += f'Фамилия: {self.surname} \\n'\n",
        "      string_type += f'Средняя оценка за домашние задания: {float(self):.1f} \\n'\n",
        "      string_type += 'Курсы в процессе изучения:' + ', '.join(self.courses_in_progress) + '\\n'\n",
        "      string_type += 'Завершенные курсы:' + ', '.join(self.finished_courses) + '\\n'\n",
        "      return string_type\n"
      ],
      "metadata": {
        "id": "gCJAL_EmwU0b"
      },
      "execution_count": null,
      "outputs": []
    },
    {
      "cell_type": "markdown",
      "source": [
        "**Реализуйте перегрузку других магических методов на Ваш выбор (не менее трёх), руководствуясь по смыслу контекстом представленных классов (студенты, преподаватели, оценки и т.д.)**"
      ],
      "metadata": {
        "id": "1DNE4TE3vfYI"
      }
    },
    {
      "cell_type": "code",
      "source": [
        "class Lecturer(Mentor):\n",
        "  def __init__(self, name, surname):\n",
        "      super().__init__(name, surname)\n",
        "      self.courses_rating = {}\n",
        "\n",
        "  def __str__(self):\n",
        "    string_type = ''\n",
        "    string_type += f'Имя: {self.name} \\n'\n",
        "    string_type += f'Фамилия: {self.surname} \\n'\n",
        "    string_type += f'Средняя оценка за лекции: {float(self):.1f} \\n'\n",
        "    return string_type\n",
        "\n",
        "  def __float__(self): # №1 метод: cчитает среднюю оценку за лекции\n",
        "    summery = 0\n",
        "    grades_numerous = 0\n",
        "    for keys, values in self.courses_rating.items():\n",
        "        for i in values:\n",
        "          summery += i\n",
        "          grades_numerous += 1\n",
        "    rate = summery/grades_numerous\n",
        "    return rate\n",
        "\n",
        "  def rate_hw(self, student, course, grade):\n",
        "        student.grades[course] = [grade]\n",
        "\n",
        "class Reviewer(Mentor):\n",
        "  def rate_hw(self, student, course, grade):\n",
        "      if not course in student.grades:\n",
        "        student.grades[course] = []\n",
        "      student.grades[course].append(grade)\n",
        "\n",
        "  def __str__(self):\n",
        "    string_type = ''\n",
        "    string_type += f'Имя: {self.name} \\n'\n",
        "    string_type += f'Фамилия: {self.surname} \\n'\n",
        "    return string_type\n",
        "\n",
        "class Student:\n",
        "    def __init__(self, name, surname, gender):\n",
        "        self.name = name\n",
        "        self.surname = surname\n",
        "        self.gender = gender\n",
        "        self.finished_courses = []\n",
        "        self.courses_in_progress = []\n",
        "        self.grades = {}\n",
        "\n",
        "    def add_courses(self, course_name):\n",
        "        self.finished_courses.append(course_name)\n",
        "\n",
        "    def __str__(self):\n",
        "        string_type = ''\n",
        "        string_type += f'Имя: {self.name} \\n'\n",
        "        string_type += f'Фамилия: {self.surname} \\n'\n",
        "        string_type += f'Средняя оценка за домашние задания: {float(self):.1f} \\n'\n",
        "        string_type += 'Курсы в процессе изучения: ' + ', '.join(self.courses_in_progress) + '\\n'\n",
        "        string_type += 'Завершенные курсы:' + ', '.join(self.finished_courses) + '\\n'\n",
        "        return string_type\n",
        "\n",
        "    def __float__(self): # №2 метод: выводит среднюю оценку по всем предметам\n",
        "        summery = 0\n",
        "        grades_numerous = 0\n",
        "        for keys, values in self.grades.items():\n",
        "            for i in values:\n",
        "              summery += i\n",
        "              grades_numerous += 1\n",
        "        grades_arif_mean = summery/grades_numerous\n",
        "        return grades_arif_mean\n",
        "\n",
        "    def __call__(self): # №3 метод: выводит колличество текущих и завершённых курсов (в коpтеже)\n",
        "        run_courses_count = len(self.courses_in_progress)\n",
        "        finished_courses_count = len(self.finished_courses)\n",
        "        return run_courses_count, finished_courses_count\n",
        "\n",
        "    def rate_lecturer(self, lecturer, course, grade):\n",
        "      if grade >= 1 and grade <= 10 and course in lecturer.courses_attached and (course in self.finished_courses or course in self.courses_in_progress):\n",
        "        if not course in lecturer.courses_rating:\n",
        "          lecturer.courses_rating[course] = []\n",
        "        lecturer.courses_rating[course].append(grade)"
      ],
      "metadata": {
        "id": "WNCf9PPMu4Gv"
      },
      "execution_count": null,
      "outputs": []
    },
    {
      "cell_type": "markdown",
      "source": [
        "### **3.4. Тестирование**\n",
        "\n",
        "Создайте по 2 экземпляра каждого класса, вызовите все созданные методы, а также реализуйте две функции:\n",
        "\n",
        "* для подсчета средней оценки за домашние задания по всем студентам в рамках конкретного курса (в качестве аргументов принимаем список студентов и название курса);\n",
        "* для подсчета средней оценки за лекции всех лекторов в рамках курса (в качестве аргумента принимаем список лекторов и название курса)."
      ],
      "metadata": {
        "id": "X8xvLNT6u4Nn"
      }
    },
    {
      "cell_type": "code",
      "source": [
        "stud1 = Student('Bille', 'Piper', 'female')\n",
        "stud2 = Student('Catherine', 'Tate', 'female')\n",
        "lect1 = Lecturer('David', 'Tennant')\n",
        "lect2 = Lecturer('Matthew', 'Smith')\n",
        "revie1 = Reviewer('Elisabeth', 'Sladen')\n",
        "revie2 = Reviewer('Alexandra', 'Kingston')\n",
        "\n",
        "stud1.courses_in_progress = [\"Math\", \"History\"]\n",
        "stud2.courses_in_progress = [\"Math\", \"History\"]\n",
        "lect1.courses_attached.append(\"Math\")\n",
        "lect2.courses_attached.append(\"History\")\n",
        "revie1.courses_attached.append(\"Math\")\n",
        "revie2.courses_attached.append(\"History\")\n",
        "\n",
        "revie1.rate_hw(stud1, \"Math\", 4)\n",
        "revie1.rate_hw(stud1, \"Math\", 2)\n",
        "revie1.rate_hw(stud2, \"Math\", 5)\n",
        "revie1.rate_hw(stud2, \"Math\", 3)\n",
        "stud1.rate_lecturer(lect1, \"Math\", 4)\n",
        "stud1.rate_lecturer(lect1, \"Math\", 8)\n",
        "stud1.rate_lecturer(lect2, \"History\", 7)\n",
        "stud2.rate_lecturer(lect1, \"Math\", 10)\n",
        "stud2.rate_lecturer(lect2, \"History\", 9)\n",
        "stud2.rate_lecturer(lect2, \"History\", 2)\n",
        "\n",
        "print(stud1)\n",
        "print(stud1.grades[\"Math\"])\n",
        "print(stud2.grades[\"Math\"])\n",
        "print(lect1.courses_rating)\n",
        "print(lect2.courses_rating)\n",
        "print(float(lect1))\n",
        "print(float(stud1))\n",
        "stud2()\n"
      ],
      "metadata": {
        "id": "uh8n08fdu4V_",
        "colab": {
          "base_uri": "https://localhost:8080/"
        },
        "outputId": "f50dce6a-fbfd-408d-b243-a45966be60f4"
      },
      "execution_count": null,
      "outputs": [
        {
          "output_type": "stream",
          "name": "stdout",
          "text": [
            "Имя: Bille \n",
            "Фамилия: Piper \n",
            "Средняя оценка за домашние задания: 3.0 \n",
            "Курсы в процессе изучения: Math, History\n",
            "Завершенные курсы:\n",
            "\n",
            "[4, 2]\n",
            "[5, 3]\n",
            "{'Math': [4, 8, 10]}\n",
            "{'History': [7, 9, 2]}\n",
            "7.333333333333333\n",
            "3.0\n"
          ]
        },
        {
          "output_type": "execute_result",
          "data": {
            "text/plain": [
              "(2, 0)"
            ]
          },
          "metadata": {},
          "execution_count": 21
        }
      ]
    },
    {
      "cell_type": "markdown",
      "source": [
        "## **Задание №4. Перегрузка операторов с помощью магических методов**\n"
      ],
      "metadata": {
        "id": "ehfo80anwJUM"
      }
    },
    {
      "cell_type": "markdown",
      "source": [
        "### **Цель задания:**\n",
        "\n"
      ],
      "metadata": {
        "id": "i_KsKg4awZOJ"
      }
    },
    {
      "cell_type": "markdown",
      "source": [
        "Разработать класс `Fraction` для работы с рациональными числами (дробями), реализовав перегрузку стандартных операторов через переопределение соответствующих магических методов. Ваша задача — обеспечить класс `Fraction` функциональностью, демонстрируемой в приведенном примере кода."
      ],
      "metadata": {
        "id": "JvIIB641watq"
      }
    },
    {
      "cell_type": "markdown",
      "source": [
        "### **Описание задания:**\n",
        "\n"
      ],
      "metadata": {
        "id": "BZ9kMLrYwcW_"
      }
    },
    {
      "cell_type": "markdown",
      "source": [
        "Создайте класс `Fraction`, который представляет собой обыкновенную дробь с числителем и знаменателем. Перегрузите основные арифметические операторы для выполнения операций над дробями, а также операторы сравнения. Обеспечьте возможность преобразования дроби в число с плавающей точкой и обратную операцию. Реализуйте обработку исключений при некорректных данных. Предоставьте понятное строковое и официальное представление дроби."
      ],
      "metadata": {
        "id": "6Qt56A-Bwe87"
      }
    },
    {
      "cell_type": "markdown",
      "source": [
        "**Требования к заданию:**\n"
      ],
      "metadata": {
        "id": "1lv3NnB_whqP"
      }
    },
    {
      "cell_type": "markdown",
      "source": [
        "\n",
        "1. **Класс `Fraction` должен:**\n",
        "\n",
        "   - Инициализироваться двумя целыми числами: числителем и знаменателем.\n",
        "   - Обрабатывать ситуацию когда знаменатель равен нулю, а именно выводить сообщение `\"Знаменатель не может быть нулем\"`.\n",
        "   - Упрощать дроби до несократимых при создании и после каждой арифметической операции.\n",
        "\n",
        "2. **Перегрузить следующие операторы путем переопределения магических методов:**\n",
        "\n",
        "   - **Сложение `+`** (`__add__`): сложение двух дробей, возвращает новую дробь.\n",
        "   - **Вычитание `-`** (`__sub__`): вычитание одной дроби из другой, возвращает новую дробь.\n",
        "   - **Умножение `*`** (`__mul__`): умножение двух дробей, возвращает новую дробь.\n",
        "   - **Деление `/`** (`__truediv__`): деление одной дроби на другую, возвращает новую дробь.\n",
        "   - **Равенство `==`** (`__eq__`): проверка равенства двух дробей.\n",
        "   - **Сравнения `>`, `<`, `>=`, `<=`**: сравнение дробей по их значению, реализовать методы `__lt__`, `__le__`, `__gt__`, `__ge__`.\n",
        "\n",
        "3. **Реализовать преобразование типов:**\n",
        "\n",
        "   - **Метод `__float__`**: преобразование дроби в число с плавающей точкой.\n",
        "\n",
        "4. **Дополнительные методы класса:**\n",
        "\n",
        "   - **`reciprocal()`**: возвращает новую дробь, обратную данной (числитель и знаменатель меняются местами).\n",
        "   - **Строковое представление** (`__str__`): возвращает строку вида `\"числитель/знаменатель\"`. Если знаменатель равен 1, возвращает только числитель в виде строки.\n",
        "   - **Официальное представление** (`__repr__`): возвращает строку вида `\"Fraction(числитель, знаменатель)\"`.\n",
        "\n",
        "5. **Обработка исключений:**\n",
        "\n",
        "   - При попытке создать дробь с нулевым знаменателем выводить в консоль сообщение `ValueError`.\n",
        "   - При попытке деления на нулевую дробь, выводить в консоль сообщение `ZeroDivisionError`.\n",
        "\n",
        "6. **Тестирование:**\n",
        "\n",
        "   - Написать код, демонстрирующий работу всех реализованных методов и операторов, используя примеры, приведенные ниже.\n",
        "   - Обеспечить корректную обработку исключений и вывод соответствующих сообщений.\n",
        "\n",
        "\n",
        "\n"
      ],
      "metadata": {
        "id": "4tJX8suPv0TY"
      }
    },
    {
      "cell_type": "code",
      "source": [
        "import math\n",
        "\n",
        "class Fraction:\n",
        "\n",
        "  def __init__(self, numer, denum):\n",
        "    if denum == 0:\n",
        "      print(\"Знаменатель не может быть нулем\")\n",
        "    else:\n",
        "      g = math.gcd(numer, denum)\n",
        "      self.numer = int(numer / g)\n",
        "      self.denum = int(denum / g)\n",
        "\n",
        "  def __float__(self):\n",
        "    return (self.numer/self.denum)\n",
        "\n",
        "  def __str__(self):\n",
        "    if self.denum == 1:\n",
        "      return (str(self.numer))\n",
        "    else:\n",
        "      return (f\"{self.numer}/{self.denum}\")\n",
        "\n",
        "  def __repr__(self):\n",
        "    return (f\"Fraction({self.numer}, {self.denum})\")\n",
        "\n",
        "  def reciprocal(self):\n",
        "    return (Fraction(self.denum, self.numer))\n",
        "\n",
        "  def __add__(fr1, fr2):\n",
        "    if fr1.denum == fr2.denum:\n",
        "      return (Fraction(fr1.numer + fr2.numer, fr1.denum))\n",
        "    return (Fraction(fr1.numer * fr2.denum + fr2.numer * fr1.denum, fr1.denum * fr2.denum))\n",
        "\n",
        "  def __sub__(fr1, fr2):\n",
        "    if fr1.denum == fr2.denum:\n",
        "      return (Fraction(fr1.numer - fr2.numer, fr1.denum))\n",
        "    return (Fraction(fr1.numer * fr2.denum - fr2.numer * fr1.denum, fr1.denum * fr2.denum))\n",
        "\n",
        "  def __mul__(fr1, fr2):\n",
        "    return (Fraction(fr1.numer * fr2.numer, fr1.denum * fr2.denum))\n",
        "\n",
        "  def __truediv__(fr1, fr2):\n",
        "    return (Fraction(fr1.numer * fr2.denum, fr1.denum * fr2.numer))\n",
        "\n",
        "  def __eq__(fr1, fr2):\n",
        "    return fr1.numer == fr2.numer and fr1.denum == fr2.denum\n",
        "\n",
        "  def __lt__(fr1, fr2):\n",
        "    return fr1.numer * fr2.denum < fr2.numer * fr1.denum\n",
        "\n",
        "  def __gt__(fr1, fr2):\n",
        "    return fr1.numer * fr2.denum > fr2.numer * fr1.denum\n",
        "\n",
        "  def __le__(fr1, fr2):\n",
        "    return fr1.numer * fr2.denum <= fr2.numer * fr1.denum\n",
        "\n",
        "  def __ge__(fr1, fr2):\n",
        "    return fr1.numer * fr2.denum >= fr2.numer * fr1.denum\n",
        "\n",
        "  def from_float(n):\n",
        "    return Fraction(int(n*10000), 10000)"
      ],
      "metadata": {
        "id": "58JlCtFkxpmU"
      },
      "execution_count": 3,
      "outputs": []
    },
    {
      "cell_type": "markdown",
      "source": [
        "**Тесты для класса `Fraction`:**\n"
      ],
      "metadata": {
        "id": "N5tZxFvIxdIy"
      }
    },
    {
      "cell_type": "code",
      "source": [
        "# Создание дробей\n",
        "f1 = Fraction(3, 4)\n",
        "f2 = Fraction(5, 6)\n",
        "\n",
        "# Сложение дробей\n",
        "f3 = f1 + f2\n",
        "print(f3)  # Ожидаемый вывод: 19/12\n",
        "\n",
        "# Вычитание дробей\n",
        "f4 = f1 - f2\n",
        "print(f4)  # Ожидаемый вывод: -1/12\n",
        "\n",
        "# Умножение дробей\n",
        "f5 = f1 * f2\n",
        "print(f5)  # Ожидаемый вывод: 5/8\n",
        "\n",
        "# Деление дробей\n",
        "f6 = f1 / f2\n",
        "print(f6)  # Ожидаемый вывод: 9/10\n",
        "\n",
        "# Проверка равенства\n",
        "print(f1 == Fraction(6, 8))   # Ожидаемый вывод: True\n",
        "\n",
        "# Сравнение дробей\n",
        "print(f1 > f2)    # Ожидаемый вывод: False\n",
        "print(f1 < f2)    # Ожидаемый вывод: True\n",
        "\n",
        "# Преобразование к float\n",
        "print(float(f1))  # Ожидаемый вывод: 0.75\n",
        "\n",
        "# Обратная дробь\n",
        "f7 = f1.reciprocal()\n",
        "print(f7)         # Ожидаемый вывод: 4/3\n",
        "\n",
        "# Создание дроби из float\n",
        "f8 = Fraction.from_float(0.75)\n",
        "print(f8)         # Ожидаемый вывод: 3/4\n",
        "\n",
        "# Проверка обработки исключений\n",
        "try:\n",
        "    f_invalid = Fraction(5, 0)\n",
        "except ValueError as e:\n",
        "    print(e)  # Ожидаемый вывод: Знаменатель не может быть нулем\n",
        "\n",
        "# Строковое и официальное представление\n",
        "print(str(f1))    # Ожидаемый вывод: 3/4\n",
        "print(repr(f1))   # Ожидаемый вывод: Fraction(3, 4)"
      ],
      "metadata": {
        "id": "U1UtgDM0xlqJ",
        "colab": {
          "base_uri": "https://localhost:8080/"
        },
        "outputId": "ec909b22-4b0f-4d9b-e4af-04d3c2ef969a"
      },
      "execution_count": 4,
      "outputs": [
        {
          "output_type": "stream",
          "name": "stdout",
          "text": [
            "19/12\n",
            "-1/12\n",
            "5/8\n",
            "9/10\n",
            "True\n",
            "False\n",
            "True\n",
            "0.75\n",
            "4/3\n",
            "3/4\n",
            "Знаменатель не может быть нулем\n",
            "3/4\n",
            "Fraction(3, 4)\n"
          ]
        }
      ]
    }
  ]
}