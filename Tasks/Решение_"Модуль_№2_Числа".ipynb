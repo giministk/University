{
  "nbformat": 4,
  "nbformat_minor": 0,
  "metadata": {
    "colab": {
      "provenance": [],
      "authorship_tag": "ABX9TyNAvS3ntYoW8j9v8EFz0/w3",
      "include_colab_link": true
    },
    "kernelspec": {
      "name": "python3",
      "display_name": "Python 3"
    },
    "language_info": {
      "name": "python"
    }
  },
  "cells": [
    {
      "cell_type": "markdown",
      "metadata": {
        "id": "view-in-github",
        "colab_type": "text"
      },
      "source": [
        "<a href=\"https://colab.research.google.com/github/giministk/University/blob/main/Tasks/%D0%A0%D0%B5%D1%88%D0%B5%D0%BD%D0%B8%D0%B5_%22%D0%9C%D0%BE%D0%B4%D1%83%D0%BB%D1%8C_%E2%84%962_%D0%A7%D0%B8%D1%81%D0%BB%D0%B0%22.ipynb\" target=\"_parent\"><img src=\"https://colab.research.google.com/assets/colab-badge.svg\" alt=\"Open In Colab\"/></a>"
      ]
    },
    {
      "cell_type": "code",
      "execution_count": 1,
      "metadata": {
        "colab": {
          "base_uri": "https://localhost:8080/"
        },
        "id": "t2-wJLw9DZRX",
        "outputId": "1a7d1fe5-974a-4680-867a-2c536d9f9caf"
      },
      "outputs": [
        {
          "output_type": "stream",
          "name": "stdout",
          "text": [
            "79\n",
            "9 7\n"
          ]
        }
      ],
      "source": [
        "#задание 1\n",
        "\n",
        "numb = int(input())\n",
        "\n",
        "n1 = numb % 10\n",
        "n2 = numb // 10\n",
        "\n",
        "print(n1, n2)"
      ]
    },
    {
      "cell_type": "code",
      "source": [
        "#задание 2\n",
        "\n",
        "numb = int(input())\n",
        "\n",
        "n1 = (numb % 10) * 10\n",
        "n2 = numb // 10\n",
        "\n",
        "print(n1 + n2)"
      ],
      "metadata": {
        "colab": {
          "base_uri": "https://localhost:8080/"
        },
        "id": "G7eqX3ACQM8N",
        "outputId": "2dd2b290-47c9-43e3-df9e-4e64c7f83be4"
      },
      "execution_count": 3,
      "outputs": [
        {
          "output_type": "stream",
          "name": "stdout",
          "text": [
            "79\n",
            "97\n"
          ]
        }
      ]
    },
    {
      "cell_type": "code",
      "source": [
        "#задание 3\n",
        "\n",
        "numb = int(input())\n",
        "\n",
        "n = numb % 100\n",
        "\n",
        "print(n)\n"
      ],
      "metadata": {
        "colab": {
          "base_uri": "https://localhost:8080/"
        },
        "id": "F3eiCMfceYvN",
        "outputId": "1851cbb3-8e6a-41d8-c127-777b40563b00"
      },
      "execution_count": 5,
      "outputs": [
        {
          "output_type": "stream",
          "name": "stdout",
          "text": [
            "1234\n",
            "34\n"
          ]
        }
      ]
    },
    {
      "cell_type": "code",
      "source": [
        "#задание 4\n",
        "\n",
        "numb = int(input())\n",
        "\n",
        "n = (numb % 100) // 10\n",
        "\n",
        "print(n)\n"
      ],
      "metadata": {
        "colab": {
          "base_uri": "https://localhost:8080/"
        },
        "id": "sfiVhyxag96x",
        "outputId": "28746f5a-9f30-4467-bd2e-bc835f05efa6"
      },
      "execution_count": 10,
      "outputs": [
        {
          "output_type": "stream",
          "name": "stdout",
          "text": [
            "1234\n",
            "3\n"
          ]
        }
      ]
    },
    {
      "cell_type": "code",
      "source": [
        "#задание 5\n",
        "\n",
        "numb = int(input())\n",
        "\n",
        "n = (numb % 10) + ((numb % 100) // 10) + (numb // 100)\n",
        "\n",
        "print(n)\n"
      ],
      "metadata": {
        "colab": {
          "base_uri": "https://localhost:8080/"
        },
        "id": "KG8jyGbwh5Ff",
        "outputId": "42f8e591-b836-4404-d903-1068da8528e3"
      },
      "execution_count": 11,
      "outputs": [
        {
          "output_type": "stream",
          "name": "stdout",
          "text": [
            "123\n",
            "6\n"
          ]
        }
      ]
    },
    {
      "cell_type": "code",
      "source": [
        "#задание 6\n",
        "\n",
        "numb = float(input())\n",
        "\n",
        "print(int(numb * 10 // 1 % 10))"
      ],
      "metadata": {
        "colab": {
          "base_uri": "https://localhost:8080/"
        },
        "id": "rachds_2iqaI",
        "outputId": "65a0ac87-10e4-489b-97be-bd933964abbb"
      },
      "execution_count": 22,
      "outputs": [
        {
          "output_type": "stream",
          "name": "stdout",
          "text": [
            "1.78\n",
            "7\n"
          ]
        }
      ]
    },
    {
      "cell_type": "code",
      "source": [
        "#задание 7\n",
        "\n",
        "year = int(input())\n",
        "\n",
        "cent = (year - 1) // 100 + 1\n",
        "\n",
        "print(cent)"
      ],
      "metadata": {
        "colab": {
          "base_uri": "https://localhost:8080/"
        },
        "id": "qbwuP0SclV_p",
        "outputId": "7a8166ac-4842-4f14-982c-9cb492ea3a78"
      },
      "execution_count": 24,
      "outputs": [
        {
          "output_type": "stream",
          "name": "stdout",
          "text": [
            "2000\n",
            "20\n"
          ]
        }
      ]
    },
    {
      "cell_type": "code",
      "source": [
        "#задание 8\n",
        "\n",
        "day = int(input())\n",
        "\n",
        "res = (day % 7) + 3\n",
        "\n",
        "print(res)"
      ],
      "metadata": {
        "colab": {
          "base_uri": "https://localhost:8080/"
        },
        "id": "suXR_V7aqIOX",
        "outputId": "dce97cc9-94e4-4fd0-bc8f-286ca389b655"
      },
      "execution_count": 57,
      "outputs": [
        {
          "output_type": "stream",
          "name": "stdout",
          "text": [
            "1\n",
            "4\n"
          ]
        }
      ]
    },
    {
      "cell_type": "code",
      "source": [
        "#задание 9\n",
        "\n",
        "n = int(input())\n",
        "\n",
        "n1 = n // 60\n",
        "n2 = n % 60\n",
        "\n",
        "print(n1, ':', n2)"
      ],
      "metadata": {
        "colab": {
          "base_uri": "https://localhost:8080/"
        },
        "id": "4pVgvpAguv9g",
        "outputId": "a89d8093-164e-4361-8422-2ef0fce51771"
      },
      "execution_count": 59,
      "outputs": [
        {
          "output_type": "stream",
          "name": "stdout",
          "text": [
            "456\n",
            "7 : 36\n"
          ]
        }
      ]
    },
    {
      "cell_type": "code",
      "source": [
        "#задание 10\n",
        "\n",
        "a = int(input())\n",
        "b = int(input())\n",
        "c = int(input())\n",
        "\n",
        "a1 = (a + 1) // 2\n",
        "b1 = (b + 1) // 2\n",
        "c1 = (c + 1) // 2\n",
        "\n",
        "print(a1 + b1 + c1)"
      ],
      "metadata": {
        "colab": {
          "base_uri": "https://localhost:8080/"
        },
        "id": "GjysCvq0v0JN",
        "outputId": "c6326fe9-f240-4eab-b8c2-59aaf4f3b49d"
      },
      "execution_count": 60,
      "outputs": [
        {
          "output_type": "stream",
          "name": "stdout",
          "text": [
            "20\n",
            "21\n",
            "22\n",
            "32\n"
          ]
        }
      ]
    }
  ]
}