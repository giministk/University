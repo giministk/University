{
  "nbformat": 4,
  "nbformat_minor": 0,
  "metadata": {
    "colab": {
      "provenance": [],
      "authorship_tag": "ABX9TyMYyvCIT6ivNcC2ct2ie02G",
      "include_colab_link": true
    },
    "kernelspec": {
      "name": "python3",
      "display_name": "Python 3"
    },
    "language_info": {
      "name": "python"
    }
  },
  "cells": [
    {
      "cell_type": "markdown",
      "metadata": {
        "id": "view-in-github",
        "colab_type": "text"
      },
      "source": [
        "<a href=\"https://colab.research.google.com/github/giministk/University/blob/main/Tasks/%D0%A0%D0%B5%D1%88%D0%B5%D0%BD%D0%B8%D0%B5_%22%D0%9C%D0%BE%D0%B4%D1%83%D0%BB%D1%8C_%E2%84%961_%D0%9E%D0%BF%D0%B5%D1%80%D0%B0%D1%82%D0%BE%D1%80%D1%8B_%D0%B2%D0%B2%D0%BE%D0%B4%D0%B0_%D0%B2%D1%8B%D0%B2%D0%BE%D0%B4%D0%B0%22.ipynb\" target=\"_parent\"><img src=\"https://colab.research.google.com/assets/colab-badge.svg\" alt=\"Open In Colab\"/></a>"
      ]
    },
    {
      "cell_type": "code",
      "execution_count": 2,
      "metadata": {
        "colab": {
          "base_uri": "https://localhost:8080/"
        },
        "id": "g9sebLgE2VIH",
        "outputId": "358ad19e-82eb-41c9-fdab-fa52e7bcdec0"
      },
      "outputs": [
        {
          "output_type": "stream",
          "name": "stdout",
          "text": [
            "1\n",
            "2\n",
            "3\n",
            "6\n"
          ]
        }
      ],
      "source": [
        "#задание 1\n",
        "\n",
        "a = int(input())\n",
        "b = int(input())\n",
        "c = int(input())\n",
        "\n",
        "d = a + b + c\n",
        "\n",
        "print(d)"
      ]
    },
    {
      "cell_type": "code",
      "source": [
        "#задание 2\n",
        "\n",
        "a = int(input())\n",
        "h = int(input())\n",
        "\n",
        "s = 1/2 * a * h\n",
        "\n",
        "print(s)"
      ],
      "metadata": {
        "colab": {
          "base_uri": "https://localhost:8080/"
        },
        "id": "Vf7Est4Q25_D",
        "outputId": "5c6e0d05-6538-4ef0-e94a-ad6ad9bc2f6f"
      },
      "execution_count": 3,
      "outputs": [
        {
          "output_type": "stream",
          "name": "stdout",
          "text": [
            "3\n",
            "5\n",
            "7.5\n"
          ]
        }
      ]
    },
    {
      "cell_type": "code",
      "source": [
        "#задание 3\n",
        "\n",
        "name = input()\n",
        "\n",
        "print('Привет,', name)"
      ],
      "metadata": {
        "colab": {
          "base_uri": "https://localhost:8080/"
        },
        "id": "NwxB4Lx03U9V",
        "outputId": "aa0b14ca-46b4-4cdf-cec7-85ed13a5d5f4"
      },
      "execution_count": 4,
      "outputs": [
        {
          "output_type": "stream",
          "name": "stdout",
          "text": [
            "Вася\n",
            "Привет, Вася\n"
          ]
        }
      ]
    },
    {
      "cell_type": "code",
      "source": [
        "#задание 4\n",
        "\n",
        "b = int(input())\n",
        "\n",
        "a = b - 1\n",
        "c = b + 1\n",
        "\n",
        "print('Следующее число для числа', b, ':', c)\n",
        "print('Предыдущее число для числа', b, ':', a)"
      ],
      "metadata": {
        "colab": {
          "base_uri": "https://localhost:8080/"
        },
        "id": "bjI7u1n84Lng",
        "outputId": "d2202539-b390-4e6c-91f7-96c985b107e8"
      },
      "execution_count": 8,
      "outputs": [
        {
          "output_type": "stream",
          "name": "stdout",
          "text": [
            "179\n",
            "Следующее число для числа 179 : 180\n",
            "Предыдущее число для числа 179 : 178\n"
          ]
        }
      ]
    },
    {
      "cell_type": "code",
      "source": [
        "#задание 5\n",
        "\n",
        "n = int(input())\n",
        "k = int(input())\n",
        "\n",
        "q1 = k // n\n",
        "q2 = k % n\n",
        "\n",
        "print('Яблок у студентов:', q1,',', 'в корзине:', q2)"
      ],
      "metadata": {
        "colab": {
          "base_uri": "https://localhost:8080/"
        },
        "id": "EiT7IiYw6L_w",
        "outputId": "579ded8d-caa2-45ea-8b62-31209715e6dc"
      },
      "execution_count": 11,
      "outputs": [
        {
          "output_type": "stream",
          "name": "stdout",
          "text": [
            "6\n",
            "50\n",
            "Яблок у студентов: 8 , в корзине: 2\n"
          ]
        }
      ]
    },
    {
      "cell_type": "code",
      "source": [
        "#задание 6\n",
        "\n",
        "n = int(input())\n",
        "\n",
        "h = n // 3600\n",
        "m = n // 60\n",
        "\n",
        "print(h, m)"
      ],
      "metadata": {
        "colab": {
          "base_uri": "https://localhost:8080/"
        },
        "id": "K3Tjf_YJ7ksD",
        "outputId": "5d16cfab-dd6f-455c-d018-9e2de31d5179"
      },
      "execution_count": 12,
      "outputs": [
        {
          "output_type": "stream",
          "name": "stdout",
          "text": [
            "3900\n",
            "1 65\n"
          ]
        }
      ]
    },
    {
      "cell_type": "code",
      "source": [
        "#задание 7\n",
        "\n",
        "h1 = int(input())\n",
        "m1 = int(input())\n",
        "s1 = int(input())\n",
        "\n",
        "h2 = int(input())\n",
        "m2 = int(input())\n",
        "s2 = int(input())\n",
        "\n",
        "mark1 = h1 * 3600 + m1 * 60 + s1\n",
        "mark2 = h2 * 3600 + m2 * 60 + s2\n",
        "\n",
        "res = mark2 - mark1\n",
        "\n",
        "print(res)"
      ],
      "metadata": {
        "colab": {
          "base_uri": "https://localhost:8080/"
        },
        "id": "4EE2JKwT_rEK",
        "outputId": "bb06dc87-db77-4655-da9c-e5b2480ed376"
      },
      "execution_count": 14,
      "outputs": [
        {
          "output_type": "stream",
          "name": "stdout",
          "text": [
            "1\n",
            "2\n",
            "30\n",
            "1\n",
            "3\n",
            "20\n",
            "50\n"
          ]
        }
      ]
    }
  ]
}