{
  "nbformat": 4,
  "nbformat_minor": 0,
  "metadata": {
    "colab": {
      "provenance": [],
      "authorship_tag": "ABX9TyNd2WKgW3mUqPCGzrwh6jCK",
      "include_colab_link": true
    },
    "kernelspec": {
      "name": "python3",
      "display_name": "Python 3"
    },
    "language_info": {
      "name": "python"
    }
  },
  "cells": [
    {
      "cell_type": "markdown",
      "metadata": {
        "id": "view-in-github",
        "colab_type": "text"
      },
      "source": [
        "<a href=\"https://colab.research.google.com/github/giministk/University/blob/main/Tasks/%D0%A0%D0%B5%D1%88%D0%B5%D0%BD%D0%B8%D0%B5_%22%D0%9C%D0%BE%D0%B4%D1%83%D0%BB%D1%8C_%E2%84%964_%D0%92%D0%B5%D1%82%D0%B2%D0%BB%D0%B5%D0%BD%D0%B8%D0%B5%22.ipynb\" target=\"_parent\"><img src=\"https://colab.research.google.com/assets/colab-badge.svg\" alt=\"Open In Colab\"/></a>"
      ]
    },
    {
      "cell_type": "code",
      "execution_count": 1,
      "metadata": {
        "colab": {
          "base_uri": "https://localhost:8080/"
        },
        "id": "KGbt5fKq898M",
        "outputId": "19e72535-a69f-4c04-d700-c926642a6d17"
      },
      "outputs": [
        {
          "output_type": "stream",
          "name": "stdout",
          "text": [
            "3\n",
            "нечёт\n"
          ]
        }
      ],
      "source": [
        "#задание 1\n",
        "\n",
        "a = int(input())\n",
        "\n",
        "if a % 2 == 0:\n",
        "  print('чёт')\n",
        "else:\n",
        "  print('нечёт')"
      ]
    },
    {
      "cell_type": "code",
      "source": [
        "#задание 2\n",
        "\n",
        "a = int(input())\n",
        "b = int(input())\n",
        "\n",
        "if a < b:\n",
        "  print(a)\n",
        "else:\n",
        "  print(b)"
      ],
      "metadata": {
        "colab": {
          "base_uri": "https://localhost:8080/"
        },
        "id": "mubxyGc39r9b",
        "outputId": "74804e85-3061-43cc-a6c5-83a1de6c122a"
      },
      "execution_count": 2,
      "outputs": [
        {
          "output_type": "stream",
          "name": "stdout",
          "text": [
            "3\n",
            "7\n",
            "3\n"
          ]
        }
      ]
    },
    {
      "cell_type": "code",
      "source": [
        "#задание 3\n",
        "\n",
        "a = int(input())\n",
        "\n",
        "if a < 0:\n",
        "  print('-1')\n",
        "elif a == 0:\n",
        "  print('0')\n",
        "else:\n",
        "  print('1')"
      ],
      "metadata": {
        "colab": {
          "base_uri": "https://localhost:8080/"
        },
        "id": "kNlyvCNU-DDv",
        "outputId": "f214c197-6e71-471a-d295-5535a9d250ca"
      },
      "execution_count": 4,
      "outputs": [
        {
          "output_type": "stream",
          "name": "stdout",
          "text": [
            "-4\n",
            "-1\n"
          ]
        }
      ]
    },
    {
      "cell_type": "code",
      "source": [
        "#задание 4\n",
        "\n",
        "a = int(input())\n",
        "\n",
        "if abs(a) > 99 and abs(a) < 1000:\n",
        "  print('Да')\n",
        "else:\n",
        "  print('Нет')\n",
        "\n"
      ],
      "metadata": {
        "colab": {
          "base_uri": "https://localhost:8080/"
        },
        "id": "7NziCc7O-eya",
        "outputId": "e88daaf9-c120-41b9-a429-b9813de39408"
      },
      "execution_count": 5,
      "outputs": [
        {
          "output_type": "stream",
          "name": "stdout",
          "text": [
            "123\n",
            "Да\n"
          ]
        }
      ]
    },
    {
      "cell_type": "code",
      "source": [
        "#задание 5\n",
        "\n",
        "a = int(input())\n",
        "b = int(input())\n",
        "\n",
        "if a > 0 or b > 0:\n",
        "  print('Да')\n",
        "else:\n",
        "  print('Нет')\n",
        ""
      ],
      "metadata": {
        "colab": {
          "base_uri": "https://localhost:8080/"
        },
        "id": "c8Jzr2cD_P2N",
        "outputId": "02e467bf-6a7d-4958-eb95-6d8d15c08720"
      },
      "execution_count": 6,
      "outputs": [
        {
          "output_type": "stream",
          "name": "stdout",
          "text": [
            "5\n",
            "-10\n",
            "Да\n"
          ]
        }
      ]
    },
    {
      "cell_type": "code",
      "source": [
        "#задание 6\n",
        "\n",
        "a = int(input())\n",
        "\n",
        "x = a // 100\n",
        "y = (a % 100) // 10\n",
        "z = a % 10\n",
        "\n",
        "if x < y and y < z:\n",
        "  print('Да')\n",
        "else:\n",
        "  print('Нет')"
      ],
      "metadata": {
        "colab": {
          "base_uri": "https://localhost:8080/"
        },
        "id": "uMwMia33_wMT",
        "outputId": "09ee78e8-504c-46cf-a6f7-1e25edd67fab"
      },
      "execution_count": 8,
      "outputs": [
        {
          "output_type": "stream",
          "name": "stdout",
          "text": [
            "197\n",
            "Нет\n"
          ]
        }
      ]
    },
    {
      "cell_type": "code",
      "source": [
        "#задание 7\n",
        "\n",
        "a = input()\n",
        "\n",
        "if a == a[::-1]:\n",
        "  print('Да')\n",
        "else:\n",
        "  print('Нет')"
      ],
      "metadata": {
        "colab": {
          "base_uri": "https://localhost:8080/"
        },
        "id": "xZBVJBsIAq6j",
        "outputId": "222e2e66-3b78-4171-b762-b622a260c1c0"
      },
      "execution_count": 9,
      "outputs": [
        {
          "output_type": "stream",
          "name": "stdout",
          "text": [
            "2332\n",
            "Да\n"
          ]
        }
      ]
    },
    {
      "cell_type": "code",
      "source": [
        "#задание 8\n",
        "\n",
        "a = int(input())\n",
        "\n",
        "if a == 1 or a == 3 or a == 5 or a == 7 or a == 8 or a == 10 or a == 12:\n",
        "  print('31')\n",
        "elif a == 2:\n",
        "  print('28')\n",
        "else:\n",
        "  print('30')"
      ],
      "metadata": {
        "colab": {
          "base_uri": "https://localhost:8080/"
        },
        "id": "G72kCcc8B_rg",
        "outputId": "73bd4b21-ed02-49ed-a900-ea6e3fc6fff3"
      },
      "execution_count": 10,
      "outputs": [
        {
          "output_type": "stream",
          "name": "stdout",
          "text": [
            "2\n",
            "28\n"
          ]
        }
      ]
    },
    {
      "cell_type": "code",
      "source": [
        "#задание 9\n",
        "\n",
        "a = int(input())\n",
        "b = int(input())\n",
        "c = int(input())\n",
        "\n",
        "if a == b or a == c or b == c:\n",
        "  if a == b and b == c:\n",
        "    print('3')\n",
        "  else:\n",
        "    print('2')\n",
        "else:\n",
        "  print('0')"
      ],
      "metadata": {
        "colab": {
          "base_uri": "https://localhost:8080/"
        },
        "id": "oQ-hyb3sDQlX",
        "outputId": "b8ee9fe9-e283-48c9-b7e8-4d86085e8ea6"
      },
      "execution_count": 11,
      "outputs": [
        {
          "output_type": "stream",
          "name": "stdout",
          "text": [
            "10\n",
            "5\n",
            "10\n",
            "2\n"
          ]
        }
      ]
    },
    {
      "cell_type": "code",
      "source": [
        "#задание 10\n",
        "\n",
        "a = int(input())\n",
        "b = int(input())\n",
        "\n",
        "if a % 2 == 0:\n",
        "  if b % 2 != 0:\n",
        "    print('Белая')\n",
        "  else:\n",
        "    print('Чёрная')\n",
        "else:\n",
        "  if b % 2 == 0:\n",
        "    print('Белая')\n",
        "  else:\n",
        "    print('Чёрная')"
      ],
      "metadata": {
        "colab": {
          "base_uri": "https://localhost:8080/"
        },
        "id": "C_9BptBwEPCU",
        "outputId": "dd6b9431-a7e1-4f38-a794-c10f7e11e3d7"
      },
      "execution_count": 13,
      "outputs": [
        {
          "output_type": "stream",
          "name": "stdout",
          "text": [
            "3\n",
            "2\n",
            "Белая\n"
          ]
        }
      ]
    },
    {
      "cell_type": "code",
      "source": [
        "#задание 11\n",
        "\n",
        "a = int(input())\n",
        "a1 = int(input())\n",
        "b = int(input())\n",
        "b1 = int(input())\n",
        "\n",
        "if a % 2 == 0:\n",
        "  if a1 % 2 != 0:\n",
        "    i = 1\n",
        "  else:\n",
        "    i = 0\n",
        "else:\n",
        "  if a1 % 2 == 0:\n",
        "    i = 1\n",
        "  else:\n",
        "    i = 0\n",
        "\n",
        "if b % 2 == 0:\n",
        "  if b1 % 2 != 0:\n",
        "    j = 1\n",
        "  else:\n",
        "    j = 0\n",
        "else:\n",
        "  if b1 % 2 == 0:\n",
        "    j = 1\n",
        "  else:\n",
        "    j = 0\n",
        "\n",
        "\n",
        "if i == j:\n",
        "  print('Да')\n",
        "else:\n",
        "  print('Нет')"
      ],
      "metadata": {
        "colab": {
          "base_uri": "https://localhost:8080/"
        },
        "id": "Z8plvsj1G5hE",
        "outputId": "d2925fe9-62ef-45cb-d9e3-ce25197ee73d"
      },
      "execution_count": 15,
      "outputs": [
        {
          "output_type": "stream",
          "name": "stdout",
          "text": [
            "1\n",
            "1\n",
            "2\n",
            "6\n",
            "Да\n"
          ]
        }
      ]
    },
    {
      "cell_type": "code",
      "source": [
        "#задание 12\n",
        "\n",
        "a = int(input())\n",
        "b = int(input())\n",
        "\n",
        "if a == 1 or a == 3 or a == 5 or a == 7 or a == 8 or a == 10 or a == 12:\n",
        "  #s = 31\n",
        "  if a == 12 and b == 31:\n",
        "    print('1', '-', '1', '-', '2025')\n",
        "  else:\n",
        "    if b < 31:\n",
        "      print((b + 1), '-', a, '-', '2024')\n",
        "    else:\n",
        "      print('1', '-', (a + 1), '-', '2024')\n",
        "elif a == 2:\n",
        "  #s = 28\n",
        "  if b < 28:\n",
        "    print((b + 1), '-', a, '-', '2024')\n",
        "  else:\n",
        "    print('1', '-', (a + 1), '-', '2024')\n",
        "else:\n",
        "  #s = 30\n",
        "  if b < 30:\n",
        "    print((b + 1), '-', a, '-', '2024')\n",
        "  else:\n",
        "    print('1', '-', (a + 1), '-', '2024')\n",
        "\n"
      ],
      "metadata": {
        "colab": {
          "base_uri": "https://localhost:8080/"
        },
        "id": "rZUo7MeNH9Ou",
        "outputId": "8bd71486-1404-4504-8094-98f192a26012"
      },
      "execution_count": 17,
      "outputs": [
        {
          "output_type": "stream",
          "name": "stdout",
          "text": [
            "3\n",
            "31\n",
            "1 - 4 - 2024\n"
          ]
        }
      ]
    }
  ]
}