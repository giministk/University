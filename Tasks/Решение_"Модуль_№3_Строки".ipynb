{
  "nbformat": 4,
  "nbformat_minor": 0,
  "metadata": {
    "colab": {
      "provenance": [],
      "authorship_tag": "ABX9TyMT+MgNRP7gPcQrxhmV3dSG",
      "include_colab_link": true
    },
    "kernelspec": {
      "name": "python3",
      "display_name": "Python 3"
    },
    "language_info": {
      "name": "python"
    }
  },
  "cells": [
    {
      "cell_type": "markdown",
      "metadata": {
        "id": "view-in-github",
        "colab_type": "text"
      },
      "source": [
        "<a href=\"https://colab.research.google.com/github/giministk/University/blob/main/Tasks/%D0%A0%D0%B5%D1%88%D0%B5%D0%BD%D0%B8%D0%B5_%22%D0%9C%D0%BE%D0%B4%D1%83%D0%BB%D1%8C_%E2%84%963_%D0%A1%D1%82%D1%80%D0%BE%D0%BA%D0%B8%22.ipynb\" target=\"_parent\"><img src=\"https://colab.research.google.com/assets/colab-badge.svg\" alt=\"Open In Colab\"/></a>"
      ]
    },
    {
      "cell_type": "code",
      "execution_count": 3,
      "metadata": {
        "colab": {
          "base_uri": "https://localhost:8080/"
        },
        "id": "wF_Adxatw073",
        "outputId": "463d6320-71ac-45b5-9e6e-43c5a693f2d6"
      },
      "outputs": [
        {
          "output_type": "stream",
          "name": "stdout",
          "text": [
            "Hello world\n",
            "2\n"
          ]
        }
      ],
      "source": [
        "#задание 1\n",
        "\n",
        "a = input()\n",
        "\n",
        "print(a.count(' ') + 1)"
      ]
    },
    {
      "cell_type": "code",
      "source": [
        "#задание 2\n",
        "\n",
        "a = input().split(' ')\n",
        "\n",
        "print(a[1], a[0])"
      ],
      "metadata": {
        "colab": {
          "base_uri": "https://localhost:8080/"
        },
        "id": "m5Pu9o4D0S7q",
        "outputId": "1f0d7228-f1a7-42ed-c160-fb4b6d479c4c"
      },
      "execution_count": 4,
      "outputs": [
        {
          "output_type": "stream",
          "name": "stdout",
          "text": [
            "Hello world\n",
            "world Hello\n"
          ]
        }
      ]
    },
    {
      "cell_type": "code",
      "source": [
        "#задание 3\n",
        "\n",
        "a = input()\n",
        "\n",
        "if a.count('f') == 1:\n",
        "  print(a.find('f'))\n",
        "else:\n",
        "  print(a.find('f'), a.rfind('f'))"
      ],
      "metadata": {
        "colab": {
          "base_uri": "https://localhost:8080/"
        },
        "id": "Wai09d_71TK3",
        "outputId": "1225bf58-f1fe-4076-a319-49f9fe612b72"
      },
      "execution_count": 11,
      "outputs": [
        {
          "output_type": "stream",
          "name": "stdout",
          "text": [
            "effect\n",
            "1 2\n"
          ]
        }
      ]
    },
    {
      "cell_type": "code",
      "source": [
        "#задание 4\n",
        "\n",
        "a = input()\n",
        "\n",
        "print(a.replace('1', 'one'))"
      ],
      "metadata": {
        "colab": {
          "base_uri": "https://localhost:8080/"
        },
        "id": "IMtvkk4kw1nv",
        "outputId": "29724c21-84f1-4fa4-e0cf-30f4acaf474e"
      },
      "execution_count": 12,
      "outputs": [
        {
          "output_type": "stream",
          "name": "stdout",
          "text": [
            "1+1=2\n",
            "one+one=2\n"
          ]
        }
      ]
    },
    {
      "cell_type": "code",
      "source": [
        "#задание 5\n",
        "\n",
        "a = input()\n",
        "\n",
        "print(a.replace('@', ''))"
      ],
      "metadata": {
        "colab": {
          "base_uri": "https://localhost:8080/"
        },
        "id": "e9recFOD7pgB",
        "outputId": "dbaaac67-1ca7-452d-fbfa-8b55d490760d"
      },
      "execution_count": 13,
      "outputs": [
        {
          "output_type": "stream",
          "name": "stdout",
          "text": [
            "edfhfsjf@dcnn\n",
            "edfhfsjfdcnn\n"
          ]
        }
      ]
    }
  ]
}