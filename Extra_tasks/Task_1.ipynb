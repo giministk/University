{
  "nbformat": 4,
  "nbformat_minor": 0,
  "metadata": {
    "colab": {
      "provenance": [],
      "authorship_tag": "ABX9TyO86UPa1Eu2sOARVMzS0ReM",
      "include_colab_link": true
    },
    "kernelspec": {
      "name": "python3",
      "display_name": "Python 3"
    },
    "language_info": {
      "name": "python"
    }
  },
  "cells": [
    {
      "cell_type": "markdown",
      "metadata": {
        "id": "view-in-github",
        "colab_type": "text"
      },
      "source": [
        "<a href=\"https://colab.research.google.com/github/giministk/University/blob/main/Extra_tasks/Task_1.ipynb\" target=\"_parent\"><img src=\"https://colab.research.google.com/assets/colab-badge.svg\" alt=\"Open In Colab\"/></a>"
      ]
    },
    {
      "cell_type": "code",
      "execution_count": 11,
      "metadata": {
        "colab": {
          "base_uri": "https://localhost:8080/"
        },
        "id": "8Dw1SSCLHSUp",
        "outputId": "86e2eac8-de97-40fd-c277-357a0e73dcd1"
      },
      "outputs": [
        {
          "output_type": "stream",
          "name": "stdout",
          "text": [
            "Компьютер загодал чистло: 23\n",
            "Ввод пользователя: 20\n",
            "Ваше число меньше!\n",
            "Ввод пользователя: 30\n",
            "Ваше число больше!\n",
            "Ввод пользователя: fef\n",
            "Ошибка! Введите заново!\n",
            "Ввод пользователя: выход\n",
            "Игра остановленна\n"
          ]
        }
      ],
      "source": [
        "import random\n",
        "\n",
        "a = random.randint(1, 100)\n",
        "print(f'Компьютер загодал чистло: {a}')\n",
        "b = input('Ввод пользователя: ')\n",
        "\n",
        "\n",
        "k = 0\n",
        "\n",
        "while True:\n",
        "  k += 1\n",
        "  if b.isdigit():\n",
        "    c = int(b)\n",
        "    if a != c:\n",
        "      if a < c:\n",
        "        print('Ваше число больше!')\n",
        "      if a > c:\n",
        "        print('Ваше число меньше!')\n",
        "      b = input('Ввод пользователя: ')\n",
        "    else:\n",
        "      print(f'Поздравляем! Вы угадали число за {k} попыток/и/у!')\n",
        "      break\n",
        "  else:\n",
        "      if b.lower() == 'выход':\n",
        "        print(f'Игра остановленна')\n",
        "        break\n",
        "      else:\n",
        "        print(f'Ошибка! Введите заново!')\n",
        "        b = input('Ввод пользователя: ')\n",
        "\n"
      ]
    }
  ]
}