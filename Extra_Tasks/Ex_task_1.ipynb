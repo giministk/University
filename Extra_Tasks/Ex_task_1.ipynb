{
  "nbformat": 4,
  "nbformat_minor": 0,
  "metadata": {
    "colab": {
      "provenance": [],
      "authorship_tag": "ABX9TyNee8d3/7z3+IhckGTnSrhJ",
      "include_colab_link": true
    },
    "kernelspec": {
      "name": "python3",
      "display_name": "Python 3"
    },
    "language_info": {
      "name": "python"
    }
  },
  "cells": [
    {
      "cell_type": "markdown",
      "metadata": {
        "id": "view-in-github",
        "colab_type": "text"
      },
      "source": [
        "<a href=\"https://colab.research.google.com/github/giministk/University/blob/main/Extra_Tasks/Ex_task_1.ipynb\" target=\"_parent\"><img src=\"https://colab.research.google.com/assets/colab-badge.svg\" alt=\"Open In Colab\"/></a>"
      ]
    },
    {
      "cell_type": "code",
      "execution_count": null,
      "metadata": {
        "colab": {
          "base_uri": "https://localhost:8080/"
        },
        "id": "8Dw1SSCLHSUp",
        "outputId": "76a2f3f4-9c53-4ab2-d355-36d1784074f5"
      },
      "outputs": [
        {
          "output_type": "stream",
          "name": "stdout",
          "text": [
            "Компьютер загодал чистло: 58\n",
            "Ввод пользователя: 45\n",
            "Ваше число меньше!\n",
            "Ввод пользователя: 56\n",
            "Ваше число меньше!\n",
            "Ввод пользователя: 6\n",
            "Ваше число меньше!\n",
            "Ввод пользователя: 87\n",
            "Ваше число больше!\n",
            "Ввод пользователя: efef\n",
            "Ошибка! Введите заново!\n",
            "Ввод пользователя: jyjy\n",
            "Ошибка! Введите заново!\n",
            "Ввод пользователя: 58\n",
            "Поздравляем! Вы угадали число за 5 попыток!\n"
          ]
        }
      ],
      "source": [
        "import random\n",
        "\n",
        "a = random.randint(1, 100)\n",
        "print(f'Компьютер загодал чистло: {a}')\n",
        "b = input('Ввод пользователя: ')\n",
        "\n",
        "\n",
        "k = 0\n",
        "\n",
        "while True:\n",
        "  k += 1\n",
        "  if b.isdigit():\n",
        "    c = int(b)\n",
        "    if a != c:\n",
        "      if a < c:\n",
        "        print('Ваше число больше!')\n",
        "      if a > c:\n",
        "        print('Ваше число меньше!')\n",
        "      b = input('Ввод пользователя: ')\n",
        "    else:\n",
        "      if k % 10 == 1 and k != 11:\n",
        "        print(f'Поздравляем! Вы угадали число за {k} попытку!')\n",
        "      if (k % 10 == 2) or (k % 10 == 3) or (k % 10 == 4):\n",
        "        print(f'Поздравляем! Вы угадали число за {k} попытки!')\n",
        "      else:\n",
        "        print(f'Поздравляем! Вы угадали число за {k} попыток!')\n",
        "      break\n",
        "  else:\n",
        "      if b.lower() == 'выход':\n",
        "        print(f'Игра остановленна')\n",
        "        break\n",
        "      else:\n",
        "        print(f'Ошибка! Введите заново!')\n",
        "        k -= 1\n",
        "        b = input('Ввод пользователя: ')\n",
        "\n"
      ]
    }
  ]
}