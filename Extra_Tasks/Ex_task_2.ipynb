{
  "nbformat": 4,
  "nbformat_minor": 0,
  "metadata": {
    "colab": {
      "provenance": [],
      "authorship_tag": "ABX9TyOA6g/kf00qwcKckrvLVGng",
      "include_colab_link": true
    },
    "kernelspec": {
      "name": "python3",
      "display_name": "Python 3"
    },
    "language_info": {
      "name": "python"
    }
  },
  "cells": [
    {
      "cell_type": "markdown",
      "metadata": {
        "id": "view-in-github",
        "colab_type": "text"
      },
      "source": [
        "<a href=\"https://colab.research.google.com/github/giministk/University/blob/main/Extra_Tasks/Ex_task_2.ipynb\" target=\"_parent\"><img src=\"https://colab.research.google.com/assets/colab-badge.svg\" alt=\"Open In Colab\"/></a>"
      ]
    },
    {
      "cell_type": "code",
      "execution_count": 1,
      "metadata": {
        "colab": {
          "base_uri": "https://localhost:8080/",
          "height": 495
        },
        "id": "71mpetnZqBsG",
        "outputId": "cce62ede-dba1-4203-f3d0-2079251830a8"
      },
      "outputs": [
        {
          "output_type": "stream",
          "name": "stdout",
          "text": [
            "Выберите функцию:\n",
            "\n",
            "1. Создать контакт\n",
            "2. Удалить контакт\n",
            "3. Показать список контактов\n",
            "4. Изменить номер\n",
            "5. Выход\n",
            "\n"
          ]
        },
        {
          "output_type": "error",
          "ename": "KeyboardInterrupt",
          "evalue": "Interrupted by user",
          "traceback": [
            "\u001b[0;31m---------------------------------------------------------------------------\u001b[0m",
            "\u001b[0;31mKeyboardInterrupt\u001b[0m                         Traceback (most recent call last)",
            "\u001b[0;32m<ipython-input-1-3904536ede5c>\u001b[0m in \u001b[0;36m<cell line: 51>\u001b[0;34m()\u001b[0m\n\u001b[1;32m     49\u001b[0m         \u001b[0;32mbreak\u001b[0m\u001b[0;34m\u001b[0m\u001b[0;34m\u001b[0m\u001b[0m\n\u001b[1;32m     50\u001b[0m \u001b[0;34m\u001b[0m\u001b[0m\n\u001b[0;32m---> 51\u001b[0;31m \u001b[0mmain\u001b[0m\u001b[0;34m(\u001b[0m\u001b[0;34m)\u001b[0m\u001b[0;34m\u001b[0m\u001b[0;34m\u001b[0m\u001b[0m\n\u001b[0m\u001b[1;32m     52\u001b[0m \u001b[0;34m\u001b[0m\u001b[0m\n\u001b[1;32m     53\u001b[0m \u001b[0;34m\u001b[0m\u001b[0m\n",
            "\u001b[0;32m<ipython-input-1-3904536ede5c>\u001b[0m in \u001b[0;36mmain\u001b[0;34m()\u001b[0m\n\u001b[1;32m     26\u001b[0m \u001b[0;34m\u001b[0m\u001b[0m\n\u001b[1;32m     27\u001b[0m   \u001b[0;32mwhile\u001b[0m \u001b[0;32mTrue\u001b[0m\u001b[0;34m:\u001b[0m\u001b[0;34m\u001b[0m\u001b[0;34m\u001b[0m\u001b[0m\n\u001b[0;32m---> 28\u001b[0;31m     \u001b[0mcommand\u001b[0m \u001b[0;34m=\u001b[0m \u001b[0minput\u001b[0m\u001b[0;34m(\u001b[0m\u001b[0;34m\"Введите номер функции:\"\u001b[0m\u001b[0;34m)\u001b[0m\u001b[0;34m\u001b[0m\u001b[0;34m\u001b[0m\u001b[0m\n\u001b[0m\u001b[1;32m     29\u001b[0m     \u001b[0mmatch\u001b[0m \u001b[0mcommand\u001b[0m\u001b[0;34m:\u001b[0m\u001b[0;34m\u001b[0m\u001b[0;34m\u001b[0m\u001b[0m\n\u001b[1;32m     30\u001b[0m       \u001b[0mcase\u001b[0m \u001b[0;34m\"1\"\u001b[0m\u001b[0;34m:\u001b[0m\u001b[0;34m\u001b[0m\u001b[0;34m\u001b[0m\u001b[0m\n",
            "\u001b[0;32m/usr/local/lib/python3.10/dist-packages/ipykernel/kernelbase.py\u001b[0m in \u001b[0;36mraw_input\u001b[0;34m(self, prompt)\u001b[0m\n\u001b[1;32m    849\u001b[0m                 \u001b[0;34m\"raw_input was called, but this frontend does not support input requests.\"\u001b[0m\u001b[0;34m\u001b[0m\u001b[0;34m\u001b[0m\u001b[0m\n\u001b[1;32m    850\u001b[0m             )\n\u001b[0;32m--> 851\u001b[0;31m         return self._input_request(str(prompt),\n\u001b[0m\u001b[1;32m    852\u001b[0m             \u001b[0mself\u001b[0m\u001b[0;34m.\u001b[0m\u001b[0m_parent_ident\u001b[0m\u001b[0;34m,\u001b[0m\u001b[0;34m\u001b[0m\u001b[0;34m\u001b[0m\u001b[0m\n\u001b[1;32m    853\u001b[0m             \u001b[0mself\u001b[0m\u001b[0;34m.\u001b[0m\u001b[0m_parent_header\u001b[0m\u001b[0;34m,\u001b[0m\u001b[0;34m\u001b[0m\u001b[0;34m\u001b[0m\u001b[0m\n",
            "\u001b[0;32m/usr/local/lib/python3.10/dist-packages/ipykernel/kernelbase.py\u001b[0m in \u001b[0;36m_input_request\u001b[0;34m(self, prompt, ident, parent, password)\u001b[0m\n\u001b[1;32m    893\u001b[0m             \u001b[0;32mexcept\u001b[0m \u001b[0mKeyboardInterrupt\u001b[0m\u001b[0;34m:\u001b[0m\u001b[0;34m\u001b[0m\u001b[0;34m\u001b[0m\u001b[0m\n\u001b[1;32m    894\u001b[0m                 \u001b[0;31m# re-raise KeyboardInterrupt, to truncate traceback\u001b[0m\u001b[0;34m\u001b[0m\u001b[0;34m\u001b[0m\u001b[0m\n\u001b[0;32m--> 895\u001b[0;31m                 \u001b[0;32mraise\u001b[0m \u001b[0mKeyboardInterrupt\u001b[0m\u001b[0;34m(\u001b[0m\u001b[0;34m\"Interrupted by user\"\u001b[0m\u001b[0;34m)\u001b[0m \u001b[0;32mfrom\u001b[0m \u001b[0;32mNone\u001b[0m\u001b[0;34m\u001b[0m\u001b[0;34m\u001b[0m\u001b[0m\n\u001b[0m\u001b[1;32m    896\u001b[0m             \u001b[0;32mexcept\u001b[0m \u001b[0mException\u001b[0m \u001b[0;32mas\u001b[0m \u001b[0me\u001b[0m\u001b[0;34m:\u001b[0m\u001b[0;34m\u001b[0m\u001b[0;34m\u001b[0m\u001b[0m\n\u001b[1;32m    897\u001b[0m                 \u001b[0mself\u001b[0m\u001b[0;34m.\u001b[0m\u001b[0mlog\u001b[0m\u001b[0;34m.\u001b[0m\u001b[0mwarning\u001b[0m\u001b[0;34m(\u001b[0m\u001b[0;34m\"Invalid Message:\"\u001b[0m\u001b[0;34m,\u001b[0m \u001b[0mexc_info\u001b[0m\u001b[0;34m=\u001b[0m\u001b[0;32mTrue\u001b[0m\u001b[0;34m)\u001b[0m\u001b[0;34m\u001b[0m\u001b[0;34m\u001b[0m\u001b[0m\n",
            "\u001b[0;31mKeyboardInterrupt\u001b[0m: Interrupted by user"
          ]
        }
      ],
      "source": [
        "#функции\n",
        "def add_contact(name_input, number_input):\n",
        "  name_input = name_input.title()\n",
        "  number_input = \"+7\" + number_input\n",
        "  list_of_contacts[name_input] = number_input\n",
        "\n",
        "def delete_contact(name_input):\n",
        "  name_input = name_input.title()\n",
        "  list_of_contacts.pop(name_input)\n",
        "\n",
        "def open_phone_book():\n",
        "  for k, v in list_of_contacts.items():\n",
        "        print(k, v)\n",
        "\n",
        "def edit_contact(name_input, number_input):\n",
        "  name_input = name_input.title()\n",
        "  number_input = \"+7\" + number_input\n",
        "  list_of_contacts[name_input] = number_input\n",
        "\n",
        "\n",
        "\n",
        "list_of_contacts = {}\n",
        "\n",
        "def main():\n",
        "  print(\"Выберите функцию:\\n\", \"1. Создать контакт\", \"2. Удалить контакт\",\n",
        "        \"3. Показать список контактов\", \"4. Изменить номер\", \"5. Выход\\n\", sep=\"\\n\")\n",
        "\n",
        "  while True:\n",
        "    command = input(\"Введите номер функции:\")\n",
        "    match command:\n",
        "      case \"1\":\n",
        "        name_input = input(\"Введите название для контакта:\")\n",
        "        number_input = input(\"Введите номер телефона:\")\n",
        "        add_contact(name_input, number_input)\n",
        "        print(\"Контакт успешно добавлен!\")\n",
        "      case \"2\":\n",
        "        name_input = input(\"Введите имя контакта, который хотите удалить: \")\n",
        "        delete_contact(name_input)\n",
        "        print(\"Контакт удалён\")\n",
        "      case \"3\":\n",
        "        print(\"Список контактов: \")\n",
        "        open_phone_book()\n",
        "      case \"4\":\n",
        "        name_input = input(\"Введите название для контакта:\")\n",
        "        number_input = input(\"Введите номер телефона:\")\n",
        "        edit_contact(name_input, number_input)\n",
        "        print(\"Контакт успешно изменен!\")\n",
        "      case \"5\":\n",
        "        print(\"Выход из списка контактов!\")\n",
        "        break\n",
        "\n",
        "main()\n",
        "\n",
        "\n",
        ""
      ]
    },
    {
      "cell_type": "code",
      "source": [
        "#код\n",
        "list_of_contacts = {}\n",
        "print(\"Выберите функцию:\\n\", \"1. Создать контакт\", \"2. Удалить контакт\",\n",
        "        \"3. Показать список контактов\", \"4. Изменить номер\", \"5. Выход\\n\", sep=\"\\n\")\n",
        "\n",
        "while True:\n",
        "  command = input(\"Введите номер функции:\")\n",
        "  match command:\n",
        "    case \"1\":\n",
        "      name_input = input(\"Введите название для контакта:\")\n",
        "      name_input = name_input.title()\n",
        "      number_input = input(\"Введите номер телефона:\")\n",
        "      number_input = \"+7\" + number_input\n",
        "      list_of_contacts[name_input] = number_input\n",
        "      print(\"Контакт успешно добавлен!\")\n",
        "    case \"2\":\n",
        "      name_input = input(\"Введите имя контакта, который хотите удалить:\")\n",
        "      name_input = name_input.title()\n",
        "      list_of_contacts.pop(name_input)\n",
        "      print(\"Контакт удален\")\n",
        "    case \"3\":\n",
        "      print(\"Список контактов:\")\n",
        "      for k, v in list_of_contacts.items():\n",
        "        print(k, v)\n",
        "    case \"4\":\n",
        "      name_input = input(\"Введите название для контакта:\")\n",
        "      name_input = name_input.title()\n",
        "      number_input = input(\"Введите номер телефона:\")\n",
        "      number_input = \"+7\" + number_input\n",
        "      list_of_contacts[name_input] = number_input\n",
        "      print(\"Контакт успешно изменен!\")\n",
        "    case \"5\":\n",
        "      print(\"Выход из списка контактов!\")\n",
        "      break"
      ],
      "metadata": {
        "id": "srtQFsK2r3AC"
      },
      "execution_count": null,
      "outputs": []
    }
  ]
}